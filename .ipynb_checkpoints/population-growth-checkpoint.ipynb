{
 "cells": [
  {
   "cell_type": "markdown",
   "id": "ec18aca0",
   "metadata": {},
   "source": [
    "# chaotic population growth, bifurcations, Feigenbaum constant\n",
    "Implementing very standard equations relating to population growth that easily lead to chaotic behaviour, bifurcation diagrams and the Feigenbaum constant.\n",
    "\n",
    "Logistic equation:\n",
    "$x_{n + 1} = rx(1-x)$ can be written as: $y = rx-rx^2$ or $y = r(x-x^2)$"
   ]
  },
  {
   "cell_type": "markdown",
   "id": "fbc8a2e5",
   "metadata": {},
   "source": [
    "## plotting $x_n$ vs $x_{n+1}$"
   ]
  },
  {
   "cell_type": "markdown",
   "id": "9970a90f",
   "metadata": {},
   "source": [
    "## TODO\n",
    "- completely refactor to display the sliders to the side or otherwise get rid of the annoying updating-bug"
   ]
  },
  {
   "cell_type": "code",
   "execution_count": 19,
   "id": "c8529eb2",
   "metadata": {},
   "outputs": [],
   "source": [
    "import numpy as np\n",
    "import matplotlib.pyplot as plt\n",
    "# open from conda env voila\n",
    "# set kernel to voila\n",
    "# replace notebooks with voila/render to render"
   ]
  },
  {
   "cell_type": "code",
   "execution_count": 20,
   "id": "1062920c",
   "metadata": {},
   "outputs": [],
   "source": [
    "#@title Figure settings\n",
    "import ipywidgets as widgets  # interactive display\n",
    "from ipywidgets import fixed, Layout, HBox\n",
    "#from ipywidgets import interactive, fixed, IntSlider, HBox, Layout\n",
    "\n",
    "%config InlineBackend.figure_format = 'retina'\n",
    "#plt.style.use(\"https://raw.githubusercontent.com/NeuromatchAcademy/course-content/master/nma.mplstyle\")\n",
    "plt.style.use(\"dark_background\")\n"
   ]
  },
  {
   "cell_type": "code",
   "execution_count": 21,
   "id": "7d93c6ad",
   "metadata": {},
   "outputs": [],
   "source": [
    "# functions implementing \n",
    "def log_map(start = 0.6, n = 10, r = 1):\n",
    "    \n",
    "    \"\"\"\n",
    "    iterates a population growth according to $x_{n + 1} = rx(1-x)$\n",
    "    \n",
    "    start: starting population as fraction of max population\n",
    "    n: number of iterations (eg years)\n",
    "    r: nonlinearity parameter (suggestions: .8, 2.5, 3.1, 3.8)\n",
    "    \"\"\"\n",
    "    \n",
    "    result = np.zeros(n)\n",
    "    result[0] = start\n",
    "    \n",
    "    for i in range(1,n):\n",
    "        result[i] = r * result[i-1] * (1 - result[i-1])\n",
    "        \n",
    "    return result\n",
    "\n",
    "def log_func(x, r):\n",
    "    \n",
    "    \"\"\"\n",
    "    makes the curve $x_{n + 1} = rx(1-x)$ if x is an equally spaced array\n",
    "    gives next x if x is a scalar\n",
    "    \"\"\"\n",
    "    \n",
    "    return r * x * (1-x)\n",
    "    #return r * x - r * x**2 equivalent\n",
    "    \n",
    "def bifurcate(r_range = (0,4), n_rs = 1000, n_iterations=1000, k_points=150, start= .6, plot = False, ax = None):\n",
    "        \n",
    "    \"\"\"\n",
    "    generates and plots bifurcations\n",
    "    r_range: iterable of bounds on r\n",
    "    n_rs: integer specifying number of rs\n",
    "    n_iterations: how many iterations will be computed for the bifurcation to settle\n",
    "    k_points: how many points will be plotted/included in result\n",
    "    start: population starting value\n",
    "    plot: set to True to plot\n",
    "    ax: ax to plot on, creates new one if not specified\n",
    "    \"\"\"\n",
    "    \n",
    "    rs = np.linspace(*r_range, n_rs)\n",
    "    result = np.zeros((len(rs), k_points))\n",
    "    \n",
    "    for i, r in enumerate(rs):\n",
    "        result[i] = log_map(n = n_iterations, r = r)[-k_points:]\n",
    "    \n",
    "    \n",
    "    # plotting\n",
    "    if plot:\n",
    "        if ax is None:\n",
    "            plt.scatter(np.tile(rs, (k_points, 1)).T.flatten(), result.flatten(), s = 1)\n",
    "        else:\n",
    "            ax.scatter(np.tile(rs, (k_points, 1)).T.flatten(), result.flatten(), s = 1)\n",
    "    \n",
    "    return result"
   ]
  },
  {
   "cell_type": "code",
   "execution_count": 22,
   "id": "f6bb16cd",
   "metadata": {},
   "outputs": [
    {
     "data": {
      "application/vnd.jupyter.widget-view+json": {
       "model_id": "a9ea2981dec64e439aa5b0d7ad60b3ca",
       "version_major": 2,
       "version_minor": 0
      },
      "text/plain": [
       "interactive(children=(FloatSlider(value=0.3, description='start', max=1.0), FloatSlider(value=0.8, description…"
      ]
     },
     "metadata": {},
     "output_type": "display_data"
    }
   ],
   "source": [
    "# make widget with sliders for the parameters\n",
    "r_min = 0\n",
    "r_max = 4\n",
    "@widgets.interact(start = widgets.FloatSlider(value=.3, min=0, max=1, step=0.1),\n",
    "                  #n = widgets.IntSlider(value=50, min=0, max=100, step=1), \n",
    "                  r = widgets.FloatSlider(value=.8, min=r_min, max=r_max, step=0.1))\n",
    "\n",
    "def plot_log_map(start, r):\n",
    "    # iterate the population\n",
    "    n = 50\n",
    "    result = log_map(start, n, r)\n",
    "    \n",
    "    # init figure\n",
    "    fig = plt.figure(figsize = (12, 12))\n",
    "\n",
    "    ax1 = plt.subplot(221)\n",
    "    ax2 = plt.subplot(222)\n",
    "    ax3 = plt.subplot(212)\n",
    " \n",
    "    # copy y for x_n vs x_n+1 step plot\n",
    "    y = result.copy()\n",
    "    y[0] = 0\n",
    "    x= np.linspace(0,1)\n",
    "    \n",
    "    # plot population dynamics\n",
    "    ax1.plot(result) \n",
    "    \n",
    "    ## plot step plot\n",
    "    # logistic function\n",
    "    ax2.plot(x, log_func(x, r))\n",
    "    # identity line\n",
    "    ax2.plot(x, x)\n",
    "    ax2.step(result, y)#, ms = 5, marker = 'o')\n",
    "    # points\n",
    "    ax2.scatter(result, y, color = 'g')#, s = 20)\n",
    "    ax2.scatter(np.roll(result, 1), y, color = 'g')#, s = 20)\n",
    "    \n",
    "    #axs[1].scatter(y, result)\n",
    "    \n",
    "    bifurcate(r_range = (r_min,r_max), plot= True, ax = ax3)\n",
    "    ax3.vlines(r, -0.01, 1)\n",
    "    \n",
    "    # set ax limits\n",
    "    ax1.set_ylim(0,1)\n",
    "    ax2.set_ylim(0,1)\n",
    "    ax2.set_xlim(0,1)\n",
    "    ax3.set_ylim(-0.01,1)\n",
    "    ax3.set_xlim(0, 4)\n",
    "    \n",
    "    "
   ]
  },
  {
   "cell_type": "code",
   "execution_count": null,
   "id": "99a352ae",
   "metadata": {},
   "outputs": [],
   "source": []
  }
 ],
 "metadata": {
  "kernelspec": {
   "display_name": "voila",
   "language": "python",
   "name": "voila"
  },
  "language_info": {
   "codemirror_mode": {
    "name": "ipython",
    "version": 3
   },
   "file_extension": ".py",
   "mimetype": "text/x-python",
   "name": "python",
   "nbconvert_exporter": "python",
   "pygments_lexer": "ipython3",
   "version": "3.10.5"
  },
  "voila": {
   "theme": "dark"
  }
 },
 "nbformat": 4,
 "nbformat_minor": 5
}
